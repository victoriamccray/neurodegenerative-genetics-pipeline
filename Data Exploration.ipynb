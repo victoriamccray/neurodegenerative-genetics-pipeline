{
 "cells": [
  {
   "cell_type": "markdown",
   "id": "2062268b",
   "metadata": {},
   "source": [
    "# Predicting Neurodegenerative Disease from Aging Biomarkers\n",
    "## Exploring Datasets\n",
    "\n",
    "\n",
    "This project replicates and extends computational methods from [Shi et al. (2021)](https://www.frontiersin.org/articles/10.3389/fgene.2021.657636/full) to predict neurodegenerative diseases using DNA methylation patterns."
   ]
  },
  {
   "cell_type": "markdown",
   "id": "735ceca7",
   "metadata": {},
   "source": [
    "\n",
    "### Data Sources\n",
    "\n",
    "**Metadata File (`Text S1.txt`):** Sample information from NCBI GEO database\n",
    "- Combines data from multiple published studies (GSE138597, GSE15745, GSE53740, etc.)\n",
    "- Includes samples from different tissue types and methylation platforms\n",
    "- Pre-split into training and testing sets for reproducible evaluation\n",
    "\n",
    "**Gene Mapping File (`Text S2.txt`):** CpG site annotations\n",
    "- Maps technical probe IDs (e.g., cg00000292) to gene symbols (e.g., ATP2A1)\n",
    "- Allows biological interpretation of model findings\n",
    "- Note: Multiple CpG sites can map to the same gene, providing different regulatory information\n"
   ]
  },
  {
   "cell_type": "markdown",
   "id": "083ebb7e",
   "metadata": {},
   "source": [
    "### Diseases Under Study\n",
    "\n",
    "| Condition | Full Name | Clinical Features |\n",
    "|-----------|-----------|-------------------|\n",
    "| **AD** | Alzheimer's Disease | Memory loss, cognitive decline, most common dementia |\n",
    "| **PD** | Parkinson's Disease | Tremor, rigidity, slow movement (motor symptoms) |\n",
    "| **PSP** | Progressive Supranuclear Palsy | Parkinson-like symptoms plus eye movement problems, falls |\n",
    "| **FTD** | Frontotemporal Dementia | Behavior/personality changes, language problems, earlier onset |\n",
    "| **Normal aged** | Healthy older adults | Control group for disease comparison |\n",
    "| **Healthy young** | Healthy younger adults | Control group for aging comparison |\n"
   ]
  },
  {
   "cell_type": "code",
   "execution_count": 1,
   "id": "acc26c28",
   "metadata": {},
   "outputs": [],
   "source": [
    "import pandas as pd\n",
    "import matplotlib.pyplot as plt"
   ]
  },
  {
   "cell_type": "code",
   "execution_count": 2,
   "id": "28cd2e27",
   "metadata": {
    "scrolled": true
   },
   "outputs": [
    {
     "data": {
      "text/html": [
       "<div>\n",
       "<style scoped>\n",
       "    .dataframe tbody tr th:only-of-type {\n",
       "        vertical-align: middle;\n",
       "    }\n",
       "\n",
       "    .dataframe tbody tr th {\n",
       "        vertical-align: top;\n",
       "    }\n",
       "\n",
       "    .dataframe thead th {\n",
       "        text-align: right;\n",
       "    }\n",
       "</style>\n",
       "<table border=\"1\" class=\"dataframe\">\n",
       "  <thead>\n",
       "    <tr style=\"text-align: right;\">\n",
       "      <th></th>\n",
       "      <th>Organ</th>\n",
       "      <th>GPL</th>\n",
       "      <th>GSE</th>\n",
       "      <th>GSM</th>\n",
       "      <th>Age</th>\n",
       "      <th>Condition</th>\n",
       "      <th>Split</th>\n",
       "    </tr>\n",
       "  </thead>\n",
       "  <tbody>\n",
       "    <tr>\n",
       "      <th>0</th>\n",
       "      <td>brain</td>\n",
       "      <td>GPL21145</td>\n",
       "      <td>GSE138597</td>\n",
       "      <td>GSM4114048</td>\n",
       "      <td>65</td>\n",
       "      <td>Normal aged</td>\n",
       "      <td>Train</td>\n",
       "    </tr>\n",
       "    <tr>\n",
       "      <th>1</th>\n",
       "      <td>brain</td>\n",
       "      <td>GPL21145</td>\n",
       "      <td>GSE138597</td>\n",
       "      <td>GSM4114049</td>\n",
       "      <td>66</td>\n",
       "      <td>Normal aged</td>\n",
       "      <td>Test</td>\n",
       "    </tr>\n",
       "    <tr>\n",
       "      <th>2</th>\n",
       "      <td>brain</td>\n",
       "      <td>GPL21145</td>\n",
       "      <td>GSE138597</td>\n",
       "      <td>GSM4114050</td>\n",
       "      <td>70</td>\n",
       "      <td>Normal aged</td>\n",
       "      <td>Test</td>\n",
       "    </tr>\n",
       "    <tr>\n",
       "      <th>3</th>\n",
       "      <td>brain</td>\n",
       "      <td>GPL21145</td>\n",
       "      <td>GSE138597</td>\n",
       "      <td>GSM4114057</td>\n",
       "      <td>65</td>\n",
       "      <td>Normal aged</td>\n",
       "      <td>Test</td>\n",
       "    </tr>\n",
       "    <tr>\n",
       "      <th>4</th>\n",
       "      <td>brain</td>\n",
       "      <td>GPL21145</td>\n",
       "      <td>GSE138597</td>\n",
       "      <td>GSM4114058</td>\n",
       "      <td>66</td>\n",
       "      <td>Normal aged</td>\n",
       "      <td>Train</td>\n",
       "    </tr>\n",
       "    <tr>\n",
       "      <th>...</th>\n",
       "      <td>...</td>\n",
       "      <td>...</td>\n",
       "      <td>...</td>\n",
       "      <td>...</td>\n",
       "      <td>...</td>\n",
       "      <td>...</td>\n",
       "      <td>...</td>\n",
       "    </tr>\n",
       "    <tr>\n",
       "      <th>1132</th>\n",
       "      <td>Peripheral Blood</td>\n",
       "      <td>GPL13534</td>\n",
       "      <td>GSE53740</td>\n",
       "      <td>GSM1300566</td>\n",
       "      <td>69</td>\n",
       "      <td>FTD</td>\n",
       "      <td>Train</td>\n",
       "    </tr>\n",
       "    <tr>\n",
       "      <th>1133</th>\n",
       "      <td>Peripheral Blood</td>\n",
       "      <td>GPL13534</td>\n",
       "      <td>GSE53740</td>\n",
       "      <td>GSM1300572</td>\n",
       "      <td>56</td>\n",
       "      <td>FTD</td>\n",
       "      <td>Train</td>\n",
       "    </tr>\n",
       "    <tr>\n",
       "      <th>1134</th>\n",
       "      <td>Peripheral Blood</td>\n",
       "      <td>GPL13534</td>\n",
       "      <td>GSE53740</td>\n",
       "      <td>GSM1300574</td>\n",
       "      <td>64</td>\n",
       "      <td>FTD</td>\n",
       "      <td>Train</td>\n",
       "    </tr>\n",
       "    <tr>\n",
       "      <th>1135</th>\n",
       "      <td>Peripheral Blood</td>\n",
       "      <td>GPL13534</td>\n",
       "      <td>GSE53740</td>\n",
       "      <td>GSM1300576</td>\n",
       "      <td>66</td>\n",
       "      <td>FTD</td>\n",
       "      <td>Train</td>\n",
       "    </tr>\n",
       "    <tr>\n",
       "      <th>1136</th>\n",
       "      <td>Peripheral Blood</td>\n",
       "      <td>GPL13534</td>\n",
       "      <td>GSE53740</td>\n",
       "      <td>GSM1300578</td>\n",
       "      <td>79</td>\n",
       "      <td>FTD</td>\n",
       "      <td>Train</td>\n",
       "    </tr>\n",
       "  </tbody>\n",
       "</table>\n",
       "<p>1137 rows × 7 columns</p>\n",
       "</div>"
      ],
      "text/plain": [
       "                 Organ       GPL        GSE         GSM  Age    Condition  \\\n",
       "0                brain  GPL21145  GSE138597  GSM4114048   65  Normal aged   \n",
       "1                brain  GPL21145  GSE138597  GSM4114049   66  Normal aged   \n",
       "2                brain  GPL21145  GSE138597  GSM4114050   70  Normal aged   \n",
       "3                brain  GPL21145  GSE138597  GSM4114057   65  Normal aged   \n",
       "4                brain  GPL21145  GSE138597  GSM4114058   66  Normal aged   \n",
       "...                ...       ...        ...         ...  ...          ...   \n",
       "1132  Peripheral Blood  GPL13534   GSE53740  GSM1300566   69          FTD   \n",
       "1133  Peripheral Blood  GPL13534   GSE53740  GSM1300572   56          FTD   \n",
       "1134  Peripheral Blood  GPL13534   GSE53740  GSM1300574   64          FTD   \n",
       "1135  Peripheral Blood  GPL13534   GSE53740  GSM1300576   66          FTD   \n",
       "1136  Peripheral Blood  GPL13534   GSE53740  GSM1300578   79          FTD   \n",
       "\n",
       "      Split  \n",
       "0     Train  \n",
       "1      Test  \n",
       "2      Test  \n",
       "3      Test  \n",
       "4     Train  \n",
       "...     ...  \n",
       "1132  Train  \n",
       "1133  Train  \n",
       "1134  Train  \n",
       "1135  Train  \n",
       "1136  Train  \n",
       "\n",
       "[1137 rows x 7 columns]"
      ]
     },
     "execution_count": 2,
     "metadata": {},
     "output_type": "execute_result"
    }
   ],
   "source": [
    "# Load metadata\n",
    "df = pd.read_csv('Text S1.txt', sep='\\t',\n",
    "                 names=['Organ', 'GPL', 'GSE', 'GSM', 'Age', 'Condition', 'Split'])\n",
    "\n",
    "df"
   ]
  },
  {
   "cell_type": "code",
   "execution_count": 3,
   "id": "41fc54c3",
   "metadata": {},
   "outputs": [
    {
     "name": "stdout",
     "output_type": "stream",
     "text": [
      "How many AD patient samples?\n",
      "A1: 128\n",
      "\n",
      "Age range for AD patients:\n",
      "55 to 97 years\n"
     ]
    }
   ],
   "source": [
    "## AD Patients\n",
    "print(\"How many AD patient samples?\")\n",
    "print(f\"A1: {len(df[df['Condition'] == 'AD'])}\")\n",
    "\n",
    "print(\"\\nAge range for AD patients:\")\n",
    "ad_patients = df[df['Condition'] == 'AD']\n",
    "print(f\"{ad_patients['Age'].min()} to {ad_patients['Age'].max()} years\")"
   ]
  },
  {
   "cell_type": "markdown",
   "id": "4c8eb733",
   "metadata": {},
   "source": [
    "## Tissue Type Distribution"
   ]
  },
  {
   "cell_type": "code",
   "execution_count": 4,
   "id": "cd8467b6",
   "metadata": {
    "scrolled": true
   },
   "outputs": [
    {
     "data": {
      "image/png": "[encoded data removed]",
      "text/plain": [
       "<Figure size 1200x600 with 1 Axes>"
      ]
     },
     "metadata": {},
     "output_type": "display_data"
    }
   ],
   "source": [
    "# Visualize tissue distribution (sorted from greatest to least, top to bottom)\n",
    "fig, ax = plt.subplots(figsize=(12, 6))\n",
    "organ_counts = df['Organ'].value_counts()\n",
    "colors = plt.cm.Set3(range(len(organ_counts)))\n",
    "ax.barh(organ_counts.index[::-1], organ_counts.values[::-1], color=colors[::-1])  # Reverse order\n",
    "ax.set_xlabel('Number of Samples', fontsize=12)\n",
    "ax.set_title('Sample Distribution by Tissue Type', fontsize=14, fontweight='bold')\n",
    "ax.grid(axis='x', alpha=0.3)\n",
    "plt.tight_layout()\n",
    "plt.show()"
   ]
  },
  {
   "cell_type": "markdown",
   "id": "1d1aaf6a",
   "metadata": {},
   "source": [
    "### Which tissues have which conditions?"
   ]
  },
  {
   "cell_type": "code",
   "execution_count": 8,
   "id": "042b18c0",
   "metadata": {},
   "outputs": [
    {
     "name": "stdout",
     "output_type": "stream",
     "text": [
      "=== SAMPLES BY TISSUE AND CONDITION ===\n",
      "\n",
      "Condition                                           AD  FTD  Healthy young  \\\n",
      "Organ                                                                        \n",
      " frontal cortex                                      0    0              0   \n",
      " occipital cortex separated into neuron- and gl...   0    0              0   \n",
      "BA9 Grey matter                                      7    0              0   \n",
      "FCTX                                                 0    0             88   \n",
      "Peripheral Blood                                    15  123             11   \n",
      "brain                                                0    0              4   \n",
      "cerebellum                                           0    0             82   \n",
      "frontal cortex                                      37    0              5   \n",
      "occipital cortex separated into neuron- and gli...  30    0              4   \n",
      "pons                                                 0    0             85   \n",
      "temporal cortex                                     39    0             87   \n",
      "\n",
      "Condition                                           Normal aged  PD  PSP  \n",
      "Organ                                                                     \n",
      " frontal cortex                                              22   0    0  \n",
      " occipital cortex separated into neuron- and gl...           28   0    0  \n",
      "BA9 Grey matter                                               4   5    0  \n",
      "FCTX                                                         43   0    0  \n",
      "Peripheral Blood                                            182   0   42  \n",
      "brain                                                        18  31    0  \n",
      "cerebellum                                                   39   0    0  \n",
      "frontal cortex                                                0   0    0  \n",
      "occipital cortex separated into neuron- and gli...            0   0    0  \n",
      "pons                                                         40   0    0  \n",
      "temporal cortex                                              66   0    0  \n"
     ]
    }
   ],
   "source": [
    "tissue_condition = pd.crosstab(df['Organ'], df['Condition'])\n",
    "print(\"=== SAMPLES BY TISSUE AND CONDITION ===\\n\")\n",
    "print(tissue_condition)"
   ]
  },
  {
   "cell_type": "markdown",
   "id": "454c26ce",
   "metadata": {},
   "source": [
    "## Train/Test Split"
   ]
  },
  {
   "cell_type": "code",
   "execution_count": 5,
   "id": "d5656088",
   "metadata": {
    "scrolled": true
   },
   "outputs": [
    {
     "name": "stdout",
     "output_type": "stream",
     "text": [
      "\n",
      "How many training samples per condition?\n",
      "Normal aged      300\n",
      "Healthy young    250\n",
      "AD                85\n",
      "FTD               85\n",
      "PSP               30\n",
      "PD                25\n",
      "Name: Condition, dtype: int64\n",
      "\n",
      "How many testing samples per condition?\n",
      "Normal aged      142\n",
      "Healthy young    116\n",
      "AD                43\n",
      "FTD               38\n",
      "PSP               12\n",
      "PD                11\n",
      "Name: Condition, dtype: int64\n"
     ]
    }
   ],
   "source": [
    "print(\"\\nTraining samples per condition:\")\n",
    "train_df = df[df['Split'] == 'Train']\n",
    "print(train_df['Condition'].value_counts())\n",
    "\n",
    "print(\"\\nTesting samples per condition:\")\n",
    "test_df = df[df['Split'] == 'Test']\n",
    "print(test_df['Condition'].value_counts())"
   ]
  },
  {
   "cell_type": "markdown",
   "id": "38f2e9c0",
   "metadata": {},
   "source": [
    "### Modeling Considerations\n",
    "\n",
    "- **Dataset size:** 1,137 samples from multiple studies, tissues, and platforms\n",
    "- **Class imbalance:** Imbalance favoring Normal aged/Healthy young; PD and PSP underrepresented\n",
    "- **Age confounding:** Overlapping age distributions require model to learn disease-specific, not age-specific patterns\n",
    "- **Data heterogeneity:** Multiple tissues and platforms may require stratified analysis\n",
    "- **Gene mapping:** ~27,000 CpG sites mapping to thousands of genes"
   ]
  }
 ],
 "metadata": {
  "kernelspec": {
   "display_name": "Python 3 (ipykernel)",
   "language": "python",
   "name": "python3"
  },
  "language_info": {
   "codemirror_mode": {
    "name": "ipython",
    "version": 3
   },
   "file_extension": ".py",
   "mimetype": "text/x-python",
   "name": "python",
   "nbconvert_exporter": "python",
   "pygments_lexer": "ipython3",
   "version": "3.10.9"
  }
 },
 "nbformat": 4,
 "nbformat_minor": 5
}
